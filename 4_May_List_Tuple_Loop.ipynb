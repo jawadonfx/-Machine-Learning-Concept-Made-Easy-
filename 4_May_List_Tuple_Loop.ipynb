{
  "nbformat": 4,
  "nbformat_minor": 0,
  "metadata": {
    "colab": {
      "provenance": [],
      "toc_visible": true,
      "include_colab_link": true
    },
    "kernelspec": {
      "name": "python3",
      "display_name": "Python 3"
    },
    "language_info": {
      "name": "python"
    }
  },
  "cells": [
    {
      "cell_type": "markdown",
      "metadata": {
        "id": "view-in-github",
        "colab_type": "text"
      },
      "source": [
        "<a href=\"https://colab.research.google.com/github/jawadonfx/-Machine-Learning-Concept-Made-Easy-/blob/main/4_May_List_Tuple_Loop.ipynb\" target=\"_parent\"><img src=\"https://colab.research.google.com/assets/colab-badge.svg\" alt=\"Open In Colab\"/></a>"
      ]
    },
    {
      "cell_type": "code",
      "execution_count": null,
      "metadata": {
        "id": "lpgbGEAskdk_"
      },
      "outputs": [],
      "source": [
        "class_list=['A','B','C','D']"
      ]
    },
    {
      "cell_type": "code",
      "source": [
        "print(class_list[1])"
      ],
      "metadata": {
        "colab": {
          "base_uri": "https://localhost:8080/"
        },
        "id": "T55M8H2xqHSc",
        "outputId": "7e8087d9-83dc-492a-ff8f-211887116c13"
      },
      "execution_count": null,
      "outputs": [
        {
          "output_type": "stream",
          "name": "stdout",
          "text": [
            "B\n"
          ]
        }
      ]
    },
    {
      "cell_type": "code",
      "source": [
        "print(class_list[-1])"
      ],
      "metadata": {
        "colab": {
          "base_uri": "https://localhost:8080/"
        },
        "id": "guiOb4PHqYEy",
        "outputId": "21e37196-c151-40f9-d152-c9517595f677"
      },
      "execution_count": null,
      "outputs": [
        {
          "output_type": "stream",
          "name": "stdout",
          "text": [
            "D\n"
          ]
        }
      ]
    },
    {
      "cell_type": "code",
      "source": [
        "class_list.append(\"E\")\n",
        "print(class_list)"
      ],
      "metadata": {
        "colab": {
          "base_uri": "https://localhost:8080/"
        },
        "id": "Gc8MtSRsq7Oy",
        "outputId": "8e0a8710-31b7-41ab-f3c1-bb6de2b57aef"
      },
      "execution_count": null,
      "outputs": [
        {
          "output_type": "stream",
          "name": "stdout",
          "text": [
            "['A', 'B', 'C', 'D', 'E', 'E', 'E', 'E']\n"
          ]
        }
      ]
    },
    {
      "cell_type": "code",
      "source": [
        "class_list.insert(0,'F')\n",
        "print(class_list)"
      ],
      "metadata": {
        "colab": {
          "base_uri": "https://localhost:8080/"
        },
        "id": "hVEh3EUcrrku",
        "outputId": "c456d5db-eb09-4ccc-8ec2-7339a5ae9a96"
      },
      "execution_count": null,
      "outputs": [
        {
          "output_type": "stream",
          "name": "stdout",
          "text": [
            "['F', 'A', 'B', 'C', 'D', 'E', 'E', 'E', 'E']\n"
          ]
        }
      ]
    },
    {
      "cell_type": "code",
      "source": [
        "class_list.insert(5,'G')\n",
        "print(class_list)"
      ],
      "metadata": {
        "colab": {
          "base_uri": "https://localhost:8080/"
        },
        "id": "A2JM9PrZr9qg",
        "outputId": "919e9ec0-9952-4411-e9f5-cbeb11d15831"
      },
      "execution_count": null,
      "outputs": [
        {
          "output_type": "stream",
          "name": "stdout",
          "text": [
            "['F', 'A', 'B', 'C', 'D', 'G', 'E', 'E', 'E', 'E']\n"
          ]
        }
      ]
    },
    {
      "cell_type": "code",
      "source": [
        "# del (delete)\n",
        "# del listName[index]\n",
        "del class_list[5]\n",
        "print(class_list)"
      ],
      "metadata": {
        "colab": {
          "base_uri": "https://localhost:8080/"
        },
        "id": "aeWBc9Jns45d",
        "outputId": "0b5beeec-aca5-4aca-ba83-585d6c62ee5b"
      },
      "execution_count": null,
      "outputs": [
        {
          "output_type": "stream",
          "name": "stdout",
          "text": [
            "['F', 'A', 'B', 'C', 'D']\n"
          ]
        }
      ]
    },
    {
      "cell_type": "code",
      "source": [
        "# pop (last element remove)"
      ],
      "metadata": {
        "id": "NDuMnn8_tYZJ"
      },
      "execution_count": null,
      "outputs": []
    },
    {
      "cell_type": "code",
      "source": [
        "class_list.pop()\n",
        "print(class_list)"
      ],
      "metadata": {
        "colab": {
          "base_uri": "https://localhost:8080/"
        },
        "id": "62a2xrM2ttVE",
        "outputId": "f105c23c-f2c9-40dd-b338-a57dd3826a46"
      },
      "execution_count": null,
      "outputs": [
        {
          "output_type": "stream",
          "name": "stdout",
          "text": [
            "['F', 'A', 'B', 'C']\n"
          ]
        }
      ]
    },
    {
      "cell_type": "code",
      "source": [
        "return_pop_value=class_list.pop()\n",
        "print(return_pop_value)"
      ],
      "metadata": {
        "colab": {
          "base_uri": "https://localhost:8080/"
        },
        "id": "LrtLOKdnt_PZ",
        "outputId": "bf207a0f-5afd-4fd1-dda2-9bb839d12933"
      },
      "execution_count": null,
      "outputs": [
        {
          "output_type": "stream",
          "name": "stdout",
          "text": [
            "C\n"
          ]
        }
      ]
    },
    {
      "cell_type": "code",
      "source": [
        "class_list.pop(1)\n",
        "print(class_list)"
      ],
      "metadata": {
        "colab": {
          "base_uri": "https://localhost:8080/"
        },
        "id": "xpJ_jP7pubvU",
        "outputId": "03fa3570-ed1b-45cd-bebf-2c59e1e0be4a"
      },
      "execution_count": null,
      "outputs": [
        {
          "output_type": "stream",
          "name": "stdout",
          "text": [
            "['F', 'B']\n"
          ]
        }
      ]
    },
    {
      "cell_type": "code",
      "source": [
        "# remove (value based)\n",
        "class_list.remove('F')"
      ],
      "metadata": {
        "id": "mmJ2QbRAuyeZ"
      },
      "execution_count": null,
      "outputs": []
    },
    {
      "cell_type": "code",
      "source": [
        "print(class_list)"
      ],
      "metadata": {
        "colab": {
          "base_uri": "https://localhost:8080/"
        },
        "id": "EPdO2SxzvK0-",
        "outputId": "ef89910c-a157-40ca-9365-a18a7ef3b828"
      },
      "execution_count": null,
      "outputs": [
        {
          "output_type": "stream",
          "name": "stdout",
          "text": [
            "['B']\n"
          ]
        }
      ]
    },
    {
      "cell_type": "code",
      "source": [
        "class_list=['A','B','G','F','E']\n",
        "print(class_list)"
      ],
      "metadata": {
        "colab": {
          "base_uri": "https://localhost:8080/"
        },
        "id": "E9HGeOQfvYn_",
        "outputId": "3ec1501b-458b-43bc-aaf4-e5974993e2ff"
      },
      "execution_count": null,
      "outputs": [
        {
          "output_type": "stream",
          "name": "stdout",
          "text": [
            "['A', 'B', 'G', 'F', 'E']\n"
          ]
        }
      ]
    },
    {
      "cell_type": "code",
      "source": [
        "class_list.sort()\n",
        "print(class_list)"
      ],
      "metadata": {
        "colab": {
          "base_uri": "https://localhost:8080/"
        },
        "id": "zL15yX57v1WQ",
        "outputId": "1cabf816-3b98-4022-c9cb-41244e239a0f"
      },
      "execution_count": null,
      "outputs": [
        {
          "output_type": "stream",
          "name": "stdout",
          "text": [
            "['A', 'B', 'E', 'F', 'G']\n"
          ]
        }
      ]
    },
    {
      "cell_type": "code",
      "source": [
        "class_list.reverse()\n",
        "print(class_list)"
      ],
      "metadata": {
        "colab": {
          "base_uri": "https://localhost:8080/"
        },
        "id": "SgfCJQhrwOnc",
        "outputId": "80b2f98a-80e0-4a91-bf4f-d3abd0679c72"
      },
      "execution_count": null,
      "outputs": [
        {
          "output_type": "stream",
          "name": "stdout",
          "text": [
            "['G', 'F', 'E', 'B', 'A']\n"
          ]
        }
      ]
    },
    {
      "cell_type": "code",
      "source": [
        "cars=['bmw', 'audi', 'toyota', 'subaru']\n",
        "print(cars.sort())\n",
        "print(cars)\n",
        "cars=['bmw', 'audi', 'toyota', 'subaru']\n",
        "print(cars.sort(reverse=True))\n",
        "print(cars)\n",
        "cars=['bmw', 'audi', 'toyota', 'subaru']\n",
        "print(cars.reverse())\n",
        "print(cars)"
      ],
      "metadata": {
        "colab": {
          "base_uri": "https://localhost:8080/"
        },
        "id": "P2qa0uy7wqvX",
        "outputId": "0b82d8fa-ccfe-435d-9121-ba6a198350f3"
      },
      "execution_count": null,
      "outputs": [
        {
          "output_type": "stream",
          "name": "stdout",
          "text": [
            "None\n",
            "['audi', 'bmw', 'subaru', 'toyota']\n",
            "None\n",
            "['toyota', 'subaru', 'bmw', 'audi']\n",
            "None\n",
            "['subaru', 'toyota', 'audi', 'bmw']\n"
          ]
        }
      ]
    },
    {
      "cell_type": "code",
      "source": [
        "cars.reverse()"
      ],
      "metadata": {
        "id": "Sh0I2e4QxQ6E"
      },
      "execution_count": null,
      "outputs": []
    },
    {
      "cell_type": "markdown",
      "source": [
        "Loop"
      ],
      "metadata": {
        "id": "A7BHihYszIo7"
      }
    },
    {
      "cell_type": "code",
      "source": [
        "# for variableName in list:\n",
        "# for {\n",
        "\n",
        "#}"
      ],
      "metadata": {
        "id": "vfBDnZEBzJpF"
      },
      "execution_count": null,
      "outputs": []
    },
    {
      "cell_type": "code",
      "source": [
        "cars=['bmw', 'audi', 'toyota', 'subaru']\n",
        "print(\"Before Loop\")\n",
        "for car in cars:\n",
        "   print(car)\n",
        "   print('A')\n",
        "   print(car)\n",
        "   print('b')\n",
        "   print(car)\n",
        "   print('c')\n",
        "   print(car)\n",
        "   print('d')\n",
        "   print(car)\n",
        "   print('e')\n",
        "\n",
        "print('After Loop')"
      ],
      "metadata": {
        "colab": {
          "base_uri": "https://localhost:8080/"
        },
        "id": "5YHrwl5Czs-I",
        "outputId": "d9d0fcca-9b7b-4a89-e464-491999bed966"
      },
      "execution_count": null,
      "outputs": [
        {
          "output_type": "stream",
          "name": "stdout",
          "text": [
            "Before Loop\n",
            "bmw\n",
            "A\n",
            "bmw\n",
            "b\n",
            "bmw\n",
            "c\n",
            "bmw\n",
            "d\n",
            "bmw\n",
            "e\n",
            "audi\n",
            "A\n",
            "audi\n",
            "b\n",
            "audi\n",
            "c\n",
            "audi\n",
            "d\n",
            "audi\n",
            "e\n",
            "toyota\n",
            "A\n",
            "toyota\n",
            "b\n",
            "toyota\n",
            "c\n",
            "toyota\n",
            "d\n",
            "toyota\n",
            "e\n",
            "subaru\n",
            "A\n",
            "subaru\n",
            "b\n",
            "subaru\n",
            "c\n",
            "subaru\n",
            "d\n",
            "subaru\n",
            "e\n",
            "After Loop\n"
          ]
        }
      ]
    },
    {
      "cell_type": "code",
      "source": [
        "numeric_list= [1,2,3,4,5,6,7,8]\n",
        "print(numeric_list)"
      ],
      "metadata": {
        "colab": {
          "base_uri": "https://localhost:8080/"
        },
        "id": "2MA20ye78qqh",
        "outputId": "7a73bcb0-f1ea-4a5e-ed4c-464df8c457c9"
      },
      "execution_count": null,
      "outputs": [
        {
          "output_type": "stream",
          "name": "stdout",
          "text": [
            "[1, 2, 3, 4, 5, 6, 7, 8]\n"
          ]
        }
      ]
    },
    {
      "cell_type": "code",
      "source": [
        "for number in numeric_list:\n",
        "    print(number)"
      ],
      "metadata": {
        "colab": {
          "base_uri": "https://localhost:8080/"
        },
        "id": "LCC1uxZ48yM0",
        "outputId": "df4075ff-b07f-4cde-93cf-76a9f66f28a9"
      },
      "execution_count": null,
      "outputs": [
        {
          "output_type": "stream",
          "name": "stdout",
          "text": [
            "1\n",
            "2\n",
            "3\n",
            "4\n",
            "5\n",
            "6\n",
            "7\n",
            "8\n"
          ]
        }
      ]
    },
    {
      "cell_type": "code",
      "source": [
        "# range (start,stop,step)\n",
        "for value in range(1,10,15):\n",
        "  print(value)"
      ],
      "metadata": {
        "colab": {
          "base_uri": "https://localhost:8080/"
        },
        "id": "MHcY6pJD9WSt",
        "outputId": "2bee4862-1a3a-4c92-fe6b-dbc5e65cde60"
      },
      "execution_count": null,
      "outputs": [
        {
          "output_type": "stream",
          "name": "stdout",
          "text": [
            "1\n"
          ]
        }
      ]
    },
    {
      "cell_type": "code",
      "source": [
        "print(list(range(5,10)))"
      ],
      "metadata": {
        "colab": {
          "base_uri": "https://localhost:8080/"
        },
        "id": "WsGaAJWC-G72",
        "outputId": "a166d790-982c-4dd9-9ff4-af9b28500557"
      },
      "execution_count": null,
      "outputs": [
        {
          "output_type": "stream",
          "name": "stdout",
          "text": [
            "[5, 6, 7, 8, 9]\n"
          ]
        }
      ]
    },
    {
      "cell_type": "code",
      "source": [
        "new_list= list(range(1,20))\n",
        "print(new_list)"
      ],
      "metadata": {
        "colab": {
          "base_uri": "https://localhost:8080/"
        },
        "id": "MMo0ebo3ABQo",
        "outputId": "b5a8de9c-c2c0-441a-ef4a-7ea5645c9a5c"
      },
      "execution_count": null,
      "outputs": [
        {
          "output_type": "stream",
          "name": "stdout",
          "text": [
            "[1, 2, 3, 4, 5, 6, 7, 8, 9, 10, 11, 12, 13, 14, 15, 16, 17, 18, 19]\n"
          ]
        }
      ]
    },
    {
      "cell_type": "code",
      "source": [
        "min(new_list)"
      ],
      "metadata": {
        "colab": {
          "base_uri": "https://localhost:8080/"
        },
        "id": "-XHjIZ6nAOhS",
        "outputId": "d6dc6780-3e41-4218-c4bc-1c296069cca4"
      },
      "execution_count": null,
      "outputs": [
        {
          "output_type": "execute_result",
          "data": {
            "text/plain": [
              "1"
            ]
          },
          "metadata": {},
          "execution_count": 59
        }
      ]
    },
    {
      "cell_type": "code",
      "source": [
        "max(new_list)"
      ],
      "metadata": {
        "colab": {
          "base_uri": "https://localhost:8080/"
        },
        "id": "ybn_pP-XAWtb",
        "outputId": "8d1010c9-a776-43c8-d2f9-963e01cf854f"
      },
      "execution_count": null,
      "outputs": [
        {
          "output_type": "execute_result",
          "data": {
            "text/plain": [
              "19"
            ]
          },
          "metadata": {},
          "execution_count": 60
        }
      ]
    },
    {
      "cell_type": "code",
      "source": [
        "sum(new_list)"
      ],
      "metadata": {
        "colab": {
          "base_uri": "https://localhost:8080/"
        },
        "id": "IPQF9axTAYiL",
        "outputId": "ef6d4fe5-deae-46ff-e839-3b8d27681394"
      },
      "execution_count": null,
      "outputs": [
        {
          "output_type": "execute_result",
          "data": {
            "text/plain": [
              "190"
            ]
          },
          "metadata": {},
          "execution_count": 61
        }
      ]
    },
    {
      "cell_type": "code",
      "source": [
        "#new_list1=[1,2,3,4,5,'A']\n",
        "a='A'\n",
        "new_list1=[1,2,3,4,5,a]"
      ],
      "metadata": {
        "id": "vE9GDRApAbDp"
      },
      "execution_count": null,
      "outputs": []
    },
    {
      "cell_type": "code",
      "source": [
        "min(new_list1)"
      ],
      "metadata": {
        "colab": {
          "base_uri": "https://localhost:8080/",
          "height": 141
        },
        "id": "1u66m8WYAjdK",
        "outputId": "9e3842c8-41cd-4fa6-c5a1-578dc67180df"
      },
      "execution_count": null,
      "outputs": [
        {
          "output_type": "error",
          "ename": "TypeError",
          "evalue": "'<' not supported between instances of 'str' and 'int'",
          "traceback": [
            "\u001b[0;31m---------------------------------------------------------------------------\u001b[0m",
            "\u001b[0;31mTypeError\u001b[0m                                 Traceback (most recent call last)",
            "\u001b[0;32m<ipython-input-70-60f6ef12da63>\u001b[0m in \u001b[0;36m<cell line: 0>\u001b[0;34m()\u001b[0m\n\u001b[0;32m----> 1\u001b[0;31m \u001b[0mmin\u001b[0m\u001b[0;34m(\u001b[0m\u001b[0mnew_list1\u001b[0m\u001b[0;34m)\u001b[0m\u001b[0;34m\u001b[0m\u001b[0;34m\u001b[0m\u001b[0m\n\u001b[0m",
            "\u001b[0;31mTypeError\u001b[0m: '<' not supported between instances of 'str' and 'int'"
          ]
        }
      ]
    },
    {
      "cell_type": "code",
      "source": [
        "squares = [value*2 for value in range(1, 11)]\n",
        "print(squares)"
      ],
      "metadata": {
        "colab": {
          "base_uri": "https://localhost:8080/"
        },
        "id": "hTyH3YnFBpZ9",
        "outputId": "f0e3777a-03a3-4b71-c95a-ecc080a39ad2"
      },
      "execution_count": null,
      "outputs": [
        {
          "output_type": "stream",
          "name": "stdout",
          "text": [
            "[2, 4, 6, 8, 10, 12, 14, 16, 18, 20]\n"
          ]
        }
      ]
    },
    {
      "cell_type": "code",
      "source": [
        "new_slice_list=['A','B','C','D','E']\n",
        "print(new_slice_list)\n",
        "\n",
        "id(new_slice_list)"
      ],
      "metadata": {
        "colab": {
          "base_uri": "https://localhost:8080/"
        },
        "id": "uDDJdEEhCoZN",
        "outputId": "078ae3ac-dbb3-4e7b-dac4-bd4b14254447"
      },
      "execution_count": null,
      "outputs": [
        {
          "output_type": "stream",
          "name": "stdout",
          "text": [
            "['A', 'B', 'C', 'D', 'E']\n"
          ]
        },
        {
          "output_type": "execute_result",
          "data": {
            "text/plain": [
              "133184178947840"
            ]
          },
          "metadata": {},
          "execution_count": 79
        }
      ]
    },
    {
      "cell_type": "code",
      "source": [
        "# slice list[startlimit : endLimt]\n",
        "slice_List=new_slice_list[:6]\n",
        "print(slice_List)\n",
        "id(slice_List)"
      ],
      "metadata": {
        "colab": {
          "base_uri": "https://localhost:8080/"
        },
        "id": "fibheY_FCv30",
        "outputId": "955a8e04-0e66-4da9-e831-a7366c10da21"
      },
      "execution_count": null,
      "outputs": [
        {
          "output_type": "stream",
          "name": "stdout",
          "text": [
            "['D', 'E']\n"
          ]
        },
        {
          "output_type": "execute_result",
          "data": {
            "text/plain": [
              "133184175369792"
            ]
          },
          "metadata": {},
          "execution_count": 84
        }
      ]
    },
    {
      "cell_type": "code",
      "source": [
        "print(new_slice_list)\n",
        "id(new_slice_list)"
      ],
      "metadata": {
        "colab": {
          "base_uri": "https://localhost:8080/"
        },
        "id": "dtzIVX6mDY43",
        "outputId": "0600ad0d-4b15-4d32-e386-52f24bed77b6"
      },
      "execution_count": null,
      "outputs": [
        {
          "output_type": "stream",
          "name": "stdout",
          "text": [
            "['A', 'B', 'C', 'D', 'E']\n"
          ]
        },
        {
          "output_type": "execute_result",
          "data": {
            "text/plain": [
              "133184178947840"
            ]
          },
          "metadata": {},
          "execution_count": 81
        }
      ]
    },
    {
      "cell_type": "code",
      "source": [
        "new_list_1=[1,2,3,4,5,6]\n",
        "new_list_2=[1,2,3,4,5,6]\n",
        "print(new_list_1)\n",
        "print(new_list_2)\n",
        "\n",
        "id(new_list_1)"
      ],
      "metadata": {
        "colab": {
          "base_uri": "https://localhost:8080/"
        },
        "id": "Y0u8nCu9E4H5",
        "outputId": "42a92792-979a-42bd-e1e9-c7326cdb1e4a"
      },
      "execution_count": null,
      "outputs": [
        {
          "output_type": "stream",
          "name": "stdout",
          "text": [
            "[1, 2, 3, 4, 5, 6]\n",
            "[1, 2, 3, 4, 5, 6]\n"
          ]
        },
        {
          "output_type": "execute_result",
          "data": {
            "text/plain": [
              "133184178947584"
            ]
          },
          "metadata": {},
          "execution_count": 87
        }
      ]
    },
    {
      "cell_type": "code",
      "source": [
        "new_list_copy= new_list_1\n",
        "\n",
        "print(new_list_copy.append(7))\n",
        "\n",
        "print(new_list_copy)\n",
        "\n",
        "id(new_list_copy)\n",
        "\n",
        "print(new_list_1)"
      ],
      "metadata": {
        "colab": {
          "base_uri": "https://localhost:8080/"
        },
        "id": "AYaTBJPGFCrn",
        "outputId": "adbf80a4-8416-4853-852a-32266a7ee887"
      },
      "execution_count": null,
      "outputs": [
        {
          "output_type": "stream",
          "name": "stdout",
          "text": [
            "None\n",
            "[1, 2, 3, 4, 5, 6, 7, 7]\n",
            "[1, 2, 3, 4, 5, 6, 7, 7]\n"
          ]
        }
      ]
    },
    {
      "cell_type": "code",
      "source": [
        "new_list_copy= new_list_1.copy()\n",
        "print(new_list_copy)\n",
        "id(new_list_copy)\n",
        "new_list_copy.append(7)\n",
        "print(new_list_copy)\n",
        "print(new_list_1)"
      ],
      "metadata": {
        "colab": {
          "base_uri": "https://localhost:8080/"
        },
        "id": "IwlhDAEEGX8N",
        "outputId": "52a1f1dd-5316-4740-843c-3a0d797505cc"
      },
      "execution_count": null,
      "outputs": [
        {
          "output_type": "stream",
          "name": "stdout",
          "text": [
            "[1, 2, 3, 4, 5, 6, 7, 7]\n",
            "[1, 2, 3, 4, 5, 6, 7, 7, 7]\n",
            "[1, 2, 3, 4, 5, 6, 7, 7]\n"
          ]
        }
      ]
    },
    {
      "cell_type": "code",
      "source": [
        "list_2= [1,2,3,4,'A']\n",
        "print(list_2[1:2])\n",
        "for value  in range(1,4):\n",
        "  print(value)"
      ],
      "metadata": {
        "colab": {
          "base_uri": "https://localhost:8080/"
        },
        "id": "B-Xv6u-sHIfJ",
        "outputId": "5a15992d-5cc9-4586-b3a2-cb811729dcb8"
      },
      "execution_count": null,
      "outputs": [
        {
          "output_type": "stream",
          "name": "stdout",
          "text": [
            "[2]\n",
            "1\n",
            "2\n",
            "3\n"
          ]
        }
      ]
    },
    {
      "cell_type": "code",
      "source": [
        "new_string='Jahanzaib'\n",
        "new_copy_string= new_string\n",
        "\n",
        "\n",
        "print(id(new_string))"
      ],
      "metadata": {
        "colab": {
          "base_uri": "https://localhost:8080/"
        },
        "id": "omeU4ScfJ15V",
        "outputId": "27248495-cdac-4223-a7e8-780192f6c420"
      },
      "execution_count": null,
      "outputs": [
        {
          "output_type": "stream",
          "name": "stdout",
          "text": [
            "133184167049136\n"
          ]
        }
      ]
    },
    {
      "cell_type": "code",
      "source": [
        "id(new_copy_string)"
      ],
      "metadata": {
        "colab": {
          "base_uri": "https://localhost:8080/"
        },
        "id": "D4ZkLeCIKfLL",
        "outputId": "2527e8b4-049b-436e-f162-5e05f506cf01"
      },
      "execution_count": null,
      "outputs": [
        {
          "output_type": "execute_result",
          "data": {
            "text/plain": [
              "133184167049136"
            ]
          },
          "metadata": {},
          "execution_count": 113
        }
      ]
    },
    {
      "cell_type": "code",
      "source": [
        "id(new_copy_string)\n",
        "\n",
        "new_copy_string = 'Zaib'\n",
        "\n",
        "print(new_copy_string)\n",
        "print(new_string)"
      ],
      "metadata": {
        "colab": {
          "base_uri": "https://localhost:8080/"
        },
        "id": "aCYCWAPuKDsR",
        "outputId": "b7cde462-5efa-40d4-da39-3a09a82da618"
      },
      "execution_count": null,
      "outputs": [
        {
          "output_type": "stream",
          "name": "stdout",
          "text": [
            "Zaib\n",
            "Jahanzaib\n"
          ]
        }
      ]
    },
    {
      "cell_type": "code",
      "source": [
        "name = 'Jahanzaib'\n",
        "\n",
        "input_name=input(\"Enter your name\")\n",
        "print(input_name)"
      ],
      "metadata": {
        "colab": {
          "base_uri": "https://localhost:8080/",
          "height": 339
        },
        "id": "ppgpgHMNI446",
        "outputId": "6d8fb12b-8500-4669-e9de-ef17c3528e87"
      },
      "execution_count": null,
      "outputs": [
        {
          "output_type": "error",
          "ename": "KeyboardInterrupt",
          "evalue": "Interrupted by user",
          "traceback": [
            "\u001b[0;31m---------------------------------------------------------------------------\u001b[0m",
            "\u001b[0;31mKeyboardInterrupt\u001b[0m                         Traceback (most recent call last)",
            "\u001b[0;32m<ipython-input-102-21834f298f3f>\u001b[0m in \u001b[0;36m<cell line: 0>\u001b[0;34m()\u001b[0m\n\u001b[1;32m      1\u001b[0m \u001b[0mname\u001b[0m \u001b[0;34m=\u001b[0m \u001b[0;34m'Jahanzaib'\u001b[0m\u001b[0;34m\u001b[0m\u001b[0;34m\u001b[0m\u001b[0m\n\u001b[1;32m      2\u001b[0m \u001b[0;34m\u001b[0m\u001b[0m\n\u001b[0;32m----> 3\u001b[0;31m \u001b[0minput_name\u001b[0m\u001b[0;34m=\u001b[0m\u001b[0minput\u001b[0m\u001b[0;34m(\u001b[0m\u001b[0;34m\"Enter your name\"\u001b[0m\u001b[0;34m)\u001b[0m\u001b[0;34m\u001b[0m\u001b[0;34m\u001b[0m\u001b[0m\n\u001b[0m\u001b[1;32m      4\u001b[0m \u001b[0mprint\u001b[0m\u001b[0;34m(\u001b[0m\u001b[0minput_name\u001b[0m\u001b[0;34m)\u001b[0m\u001b[0;34m\u001b[0m\u001b[0;34m\u001b[0m\u001b[0m\n",
            "\u001b[0;32m/usr/local/lib/python3.11/dist-packages/ipykernel/kernelbase.py\u001b[0m in \u001b[0;36mraw_input\u001b[0;34m(self, prompt)\u001b[0m\n\u001b[1;32m   1175\u001b[0m                 \u001b[0;34m\"raw_input was called, but this frontend does not support input requests.\"\u001b[0m\u001b[0;34m\u001b[0m\u001b[0;34m\u001b[0m\u001b[0m\n\u001b[1;32m   1176\u001b[0m             )\n\u001b[0;32m-> 1177\u001b[0;31m         return self._input_request(\n\u001b[0m\u001b[1;32m   1178\u001b[0m             \u001b[0mstr\u001b[0m\u001b[0;34m(\u001b[0m\u001b[0mprompt\u001b[0m\u001b[0;34m)\u001b[0m\u001b[0;34m,\u001b[0m\u001b[0;34m\u001b[0m\u001b[0;34m\u001b[0m\u001b[0m\n\u001b[1;32m   1179\u001b[0m             \u001b[0mself\u001b[0m\u001b[0;34m.\u001b[0m\u001b[0m_parent_ident\u001b[0m\u001b[0;34m[\u001b[0m\u001b[0;34m\"shell\"\u001b[0m\u001b[0;34m]\u001b[0m\u001b[0;34m,\u001b[0m\u001b[0;34m\u001b[0m\u001b[0;34m\u001b[0m\u001b[0m\n",
            "\u001b[0;32m/usr/local/lib/python3.11/dist-packages/ipykernel/kernelbase.py\u001b[0m in \u001b[0;36m_input_request\u001b[0;34m(self, prompt, ident, parent, password)\u001b[0m\n\u001b[1;32m   1217\u001b[0m             \u001b[0;32mexcept\u001b[0m \u001b[0mKeyboardInterrupt\u001b[0m\u001b[0;34m:\u001b[0m\u001b[0;34m\u001b[0m\u001b[0;34m\u001b[0m\u001b[0m\n\u001b[1;32m   1218\u001b[0m                 \u001b[0;31m# re-raise KeyboardInterrupt, to truncate traceback\u001b[0m\u001b[0;34m\u001b[0m\u001b[0;34m\u001b[0m\u001b[0m\n\u001b[0;32m-> 1219\u001b[0;31m                 \u001b[0;32mraise\u001b[0m \u001b[0mKeyboardInterrupt\u001b[0m\u001b[0;34m(\u001b[0m\u001b[0;34m\"Interrupted by user\"\u001b[0m\u001b[0;34m)\u001b[0m \u001b[0;32mfrom\u001b[0m \u001b[0;32mNone\u001b[0m\u001b[0;34m\u001b[0m\u001b[0;34m\u001b[0m\u001b[0m\n\u001b[0m\u001b[1;32m   1220\u001b[0m             \u001b[0;32mexcept\u001b[0m \u001b[0mException\u001b[0m\u001b[0;34m:\u001b[0m\u001b[0;34m\u001b[0m\u001b[0;34m\u001b[0m\u001b[0m\n\u001b[1;32m   1221\u001b[0m                 \u001b[0mself\u001b[0m\u001b[0;34m.\u001b[0m\u001b[0mlog\u001b[0m\u001b[0;34m.\u001b[0m\u001b[0mwarning\u001b[0m\u001b[0;34m(\u001b[0m\u001b[0;34m\"Invalid Message:\"\u001b[0m\u001b[0;34m,\u001b[0m \u001b[0mexc_info\u001b[0m\u001b[0;34m=\u001b[0m\u001b[0;32mTrue\u001b[0m\u001b[0;34m)\u001b[0m\u001b[0;34m\u001b[0m\u001b[0;34m\u001b[0m\u001b[0m\n",
            "\u001b[0;31mKeyboardInterrupt\u001b[0m: Interrupted by user"
          ]
        }
      ]
    },
    {
      "cell_type": "code",
      "source": [],
      "metadata": {
        "id": "MNpMN1WhPBov"
      },
      "execution_count": null,
      "outputs": []
    },
    {
      "cell_type": "code",
      "source": [
        "value=  int(input(\"Enter your table\"))\n",
        "# int\n",
        "# float\n",
        "# user input hamesha string\n",
        "# numbers ky sth kam krna ho then ap type casting\n",
        "# 1 data type sy dosri data type my convert krna\n",
        "# int (interger typecast) int()\n",
        "# float (float typecast) float()\n",
        "\n",
        "\n",
        "for number in range(1,11):\n",
        "  print(value,\"*\",number,\"=\",value*number)"
      ],
      "metadata": {
        "colab": {
          "base_uri": "https://localhost:8080/"
        },
        "id": "5pXZUGVwNZf_",
        "outputId": "6873a9dd-f6ed-48a3-e75e-3725a8f2b80f"
      },
      "execution_count": null,
      "outputs": [
        {
          "output_type": "stream",
          "name": "stdout",
          "text": [
            "Enter your table3\n",
            "3 * 1 = 3\n",
            "3 * 2 = 6\n",
            "3 * 3 = 9\n",
            "3 * 4 = 12\n",
            "3 * 5 = 15\n",
            "3 * 6 = 18\n",
            "3 * 7 = 21\n",
            "3 * 8 = 24\n",
            "3 * 9 = 27\n",
            "3 * 10 = 30\n"
          ]
        }
      ]
    },
    {
      "cell_type": "code",
      "source": [
        "number=2345.6775\n",
        "print(int(number))"
      ],
      "metadata": {
        "colab": {
          "base_uri": "https://localhost:8080/"
        },
        "id": "WK9dMdBHOyH4",
        "outputId": "ab6f3194-5964-4c68-dc2b-acd71579b0ec"
      },
      "execution_count": null,
      "outputs": [
        {
          "output_type": "stream",
          "name": "stdout",
          "text": [
            "2345\n"
          ]
        }
      ]
    },
    {
      "cell_type": "code",
      "source": [
        "guset_list=[\"A\",'B','C']\n",
        "\n",
        "for guest in guset_list:\n",
        "  print(guest ,\"you are invited\")\n",
        "\n",
        "# remove\n",
        "\n",
        "print(guset_list.pop(), \"can't make it\")\n",
        "\n",
        "guset_list.append('D')\n",
        "\n",
        "for guest in guset_list:\n",
        "  print(guest ,\"you are invited\")\n",
        "\n",
        "# beginning\n",
        "guset_list.insert(0,'E')\n",
        "\n",
        "# end\n",
        "guset_list.append('F')\n",
        "\n",
        "# mid\n",
        "mid = int(len(guset_list)/2)\n",
        "\n",
        "guset_list.insert(mid,'G')\n",
        "\n",
        "for guest in guset_list:\n",
        "  print(guest ,\"you are invited\")"
      ],
      "metadata": {
        "colab": {
          "base_uri": "https://localhost:8080/"
        },
        "id": "tBEApoaIUqPI",
        "outputId": "cb7478b2-6746-49dc-88ae-3b67a4e4f8d2"
      },
      "execution_count": null,
      "outputs": [
        {
          "output_type": "stream",
          "name": "stdout",
          "text": [
            "A you are invited\n",
            "B you are invited\n",
            "C you are invited\n",
            "C can't make it\n",
            "A you are invited\n",
            "B you are invited\n",
            "D you are invited\n",
            "E you are invited\n",
            "A you are invited\n",
            "G you are invited\n",
            "B you are invited\n",
            "D you are invited\n",
            "F you are invited\n"
          ]
        }
      ]
    }
  ]
}